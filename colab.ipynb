{
  "nbformat": 4,
  "nbformat_minor": 0,
  "metadata": {
    "colab": {
      "name": "colab.ipynb",
      "provenance": [],
      "collapsed_sections": [],
      "authorship_tag": "ABX9TyMQofB0NwpZpD6z1xeEWLFO",
      "include_colab_link": true
    },
    "kernelspec": {
      "name": "python3",
      "display_name": "Python 3"
    },
    "language_info": {
      "name": "python"
    }
  },
  "cells": [
    {
      "cell_type": "markdown",
      "metadata": {
        "id": "view-in-github",
        "colab_type": "text"
      },
      "source": [
        "<a href=\"https://colab.research.google.com/github/norascs/DLC/blob/main/colab.ipynb\" target=\"_parent\"><img src=\"https://colab.research.google.com/assets/colab-badge.svg\" alt=\"Open In Colab\"/></a>"
      ]
    },
    {
      "cell_type": "code",
      "execution_count": null,
      "metadata": {
        "id": "0svyeUfbwoX3"
      },
      "outputs": [],
      "source": [
        "import numpy as np\n",
        "import itertools as it\n",
        "import pandas as pd\n"
      ]
    },
    {
      "cell_type": "code",
      "source": [
        "swow_data = pd.read_csv(\"/content/SWOW-EN.R100.csv\")\n"
      ],
      "metadata": {
        "id": "i48V79smxGI6"
      },
      "execution_count": null,
      "outputs": []
    },
    {
      "cell_type": "code",
      "source": [
        "print(swow_data)\n"
      ],
      "metadata": {
        "colab": {
          "base_uri": "https://localhost:8080/"
        },
        "id": "qxXwx2toxJF8",
        "outputId": "6e920cc1-812c-48a6-9f90-f32688c17e3a"
      },
      "execution_count": null,
      "outputs": [
        {
          "output_type": "stream",
          "name": "stdout",
          "text": [
            "       Unnamed: 0      id  participantID   age gender nativeLanguage  \\\n",
            "0               1      29            3.0  33.0     Fe  United States   \n",
            "1               2      30            3.0  33.0     Fe  United States   \n",
            "2               3      31            3.0  33.0     Fe  United States   \n",
            "3               4      32            3.0  33.0     Fe  United States   \n",
            "4               5      33            3.0  33.0     Fe  United States   \n",
            "...           ...     ...            ...   ...    ...            ...   \n",
            "92973       92974  113165         9638.0  45.0     Fe  United States   \n",
            "92974       92975  113187         9638.0  45.0     Fe  United States   \n",
            "92975       92976  113202         9638.0  45.0     Fe  United States   \n",
            "92976       92977  113215         9638.0  45.0     Fe  United States   \n",
            "92977       92978   11322            NaN   NaN    NaN            NaN   \n",
            "\n",
            "             country  education           created_at       cue            R1  \\\n",
            "0          Australia        NaN  2011-08-12 02:19:38  although  nevertheless   \n",
            "1          Australia        NaN  2011-08-12 02:19:38      deal            no   \n",
            "2          Australia        NaN  2011-08-12 02:19:38     music         notes   \n",
            "3          Australia        NaN  2011-08-12 02:19:38    inform          tell   \n",
            "4          Australia        NaN  2011-08-12 02:19:38       way          path   \n",
            "...              ...        ...                  ...       ...           ...   \n",
            "92973  United States        NaN  2011-12-12 14:47:11    travel          wish   \n",
            "92974  United States        NaN  2011-12-12 14:47:11      lose         heart   \n",
            "92975  United States        NaN  2011-12-12 14:47:11      game            on   \n",
            "92976  United States        NaN  2011-12-12 14:47:11    reduce       recycle   \n",
            "92977            NaN        NaN                  NaN       NaN           NaN   \n",
            "\n",
            "                R2            R3  \n",
            "0              yet           but  \n",
            "1            cards         shake  \n",
            "2             band        rhythm  \n",
            "3           rat on           NaN  \n",
            "4              via        method  \n",
            "...            ...           ...  \n",
            "92973     overseas       camping  \n",
            "92974         keys  parking spot  \n",
            "92975       soccer         match  \n",
            "92976  environment        weight  \n",
            "92977          NaN           NaN  \n",
            "\n",
            "[92978 rows x 13 columns]\n"
          ]
        }
      ]
    },
    {
      "cell_type": "code",
      "source": [
        "cues_and_responses = swow_data[[\"cue\",\"R1\",\"R2\",\"R3\"]]\n",
        "\n"
      ],
      "metadata": {
        "id": "ix6PSWfExJLs"
      },
      "execution_count": null,
      "outputs": []
    },
    {
      "cell_type": "code",
      "source": [
        "swow_words = cues_and_responses.values.ravel()"
      ],
      "metadata": {
        "id": "IWZDQ2HHxMep"
      },
      "execution_count": null,
      "outputs": []
    },
    {
      "cell_type": "code",
      "source": [
        "swow_words = pd.unique(swow_words)\n"
      ],
      "metadata": {
        "id": "1vVWf0yQxO81"
      },
      "execution_count": null,
      "outputs": []
    },
    {
      "cell_type": "code",
      "source": [
        "castro_data = pd.read_csv(\"/content/castronorms.csv\")\n"
      ],
      "metadata": {
        "id": "B_T6_n8jxPg6"
      },
      "execution_count": null,
      "outputs": []
    },
    {
      "cell_type": "code",
      "source": [
        "print(castro_data)"
      ],
      "metadata": {
        "colab": {
          "base_uri": "https://localhost:8080/"
        },
        "id": "OQjnKgoBxSq-",
        "outputId": "6da2d759-07d9-4eb1-8b9a-976f923f8d99"
      },
      "execution_count": null,
      "outputs": [
        {
          "output_type": "stream",
          "name": "stdout",
          "text": [
            "         Cue  Response  All.data_Total All.data_First  All.data_Rank  \\\n",
            "0     A bird  Blue jay            0.57           0.08           3.82   \n",
            "1     A bird     Robin            0.50           0.23           2.59   \n",
            "2     A bird     Eagle            0.45           0.09           4.08   \n",
            "3     A bird  Cardinal            0.42           0.08           3.69   \n",
            "4     A bird   Sparrow            0.39           0.05           4.06   \n",
            "...      ...       ...             ...            ...            ...   \n",
            "2158     NaN       NaN             NaN            NaN            NaN   \n",
            "2159     NaN       NaN             NaN            NaN            NaN   \n",
            "2160     NaN       NaN             NaN            NaN            NaN   \n",
            "2161     NaN       NaN             NaN            NaN            NaN   \n",
            "2162     NaN       NaN             NaN            NaN            NaN   \n",
            "\n",
            "     All.data_Rank.SD  YA_Total  YA_First  YA_Rank YA_Rank.SD  MA_Total  \\\n",
            "0                2.37      0.60      0.10     3.96       2.45      0.62   \n",
            "1                2.11      0.37      0.10     3.32       2.41      0.53   \n",
            "2                 2.5      0.43      0.11     3.91       2.57      0.46   \n",
            "3                2.49      0.42      0.08     4.05       2.46      0.38   \n",
            "4                2.43      0.33      0.06     3.88       2.37      0.46   \n",
            "...               ...       ...       ...      ...        ...       ...   \n",
            "2158              NaN       NaN       NaN      NaN        NaN       NaN   \n",
            "2159              NaN       NaN       NaN      NaN        NaN       NaN   \n",
            "2160              NaN       NaN       NaN      NaN        NaN       NaN   \n",
            "2161              NaN       NaN       NaN      NaN        NaN       NaN   \n",
            "2162              NaN       NaN       NaN      NaN        NaN       NaN   \n",
            "\n",
            "      MA_First  MA_Rank MA_Rank.SD  OA_Total  OA_First  OA_Rank OA_Rank.SD  \n",
            "0         0.09     3.73       2.55      0.51      0.05     3.76       2.09  \n",
            "1         0.24     2.71       2.24      0.60      0.35     2.04       1.63  \n",
            "2         0.06     4.00       2.23      0.48      0.11     4.30       2.71  \n",
            "3         0.05     4.30       2.77      0.46      0.12     2.89       2.12  \n",
            "4         0.03     4.72       2.56      0.40      0.07     3.50       2.23  \n",
            "...        ...      ...        ...       ...       ...      ...        ...  \n",
            "2158       NaN      NaN        NaN       NaN       NaN      NaN        NaN  \n",
            "2159       NaN      NaN        NaN       NaN       NaN      NaN        NaN  \n",
            "2160       NaN      NaN        NaN       NaN       NaN      NaN        NaN  \n",
            "2161       NaN      NaN        NaN       NaN       NaN      NaN        NaN  \n",
            "2162       NaN      NaN        NaN       NaN       NaN      NaN        NaN  \n",
            "\n",
            "[2163 rows x 18 columns]\n"
          ]
        }
      ]
    },
    {
      "cell_type": "code",
      "source": [
        "cues_and_responses = castro_data[[\"Cue\",\"Response\"]]\n"
      ],
      "metadata": {
        "id": "rEc-n7enxYx3"
      },
      "execution_count": null,
      "outputs": []
    },
    {
      "cell_type": "code",
      "source": [
        "castro_words = cues_and_responses.values.ravel()\n"
      ],
      "metadata": {
        "id": "9DOJ3wE1yDwD"
      },
      "execution_count": null,
      "outputs": []
    },
    {
      "cell_type": "code",
      "source": [
        "castro_words = pd.unique(castro_words)\n"
      ],
      "metadata": {
        "id": "Ck2zmPRAyFf0"
      },
      "execution_count": null,
      "outputs": []
    },
    {
      "cell_type": "code",
      "source": [
        "full_set = np.concatenate((swow_words, castro_words)) \n",
        "full_df = pd.DataFrame({\"stimuli\":full_set}) "
      ],
      "metadata": {
        "id": "hgBD02BZyG0c"
      },
      "execution_count": null,
      "outputs": []
    },
    {
      "cell_type": "code",
      "source": [
        "histwords_set = np.concatenate((swow_words, castro_words))\n"
      ],
      "metadata": {
        "id": "qNKKnJ7eyKSl"
      },
      "execution_count": null,
      "outputs": []
    },
    {
      "cell_type": "code",
      "source": [
        "histwords_df = pd.DataFrame({\"stimuli\":histwords_set})\n"
      ],
      "metadata": {
        "id": "jZYZlH7Ryj0i"
      },
      "execution_count": null,
      "outputs": []
    },
    {
      "cell_type": "code",
      "source": [
        "histwords_vocab = pd.read_csv(\"/content/histwords_vocab.csv\")\n"
      ],
      "metadata": {
        "id": "6X2T9m0mylpL"
      },
      "execution_count": null,
      "outputs": []
    },
    {
      "cell_type": "code",
      "source": [
        "hw_words = histwords_vocab[\"word\"].values\n"
      ],
      "metadata": {
        "id": "3C9FMbEeynxj"
      },
      "execution_count": null,
      "outputs": []
    },
    {
      "cell_type": "code",
      "source": [
        "full_df = full_df[full_df.isin(hw_words)] \n"
      ],
      "metadata": {
        "id": "fMz6nVqVyprr"
      },
      "execution_count": null,
      "outputs": []
    },
    {
      "cell_type": "code",
      "source": [
        "full_df.to_csv(\"stimuli_to_check.csv\", index = False) \n"
      ],
      "metadata": {
        "id": "JD0nMmgEyrgb"
      },
      "execution_count": null,
      "outputs": []
    },
    {
      "cell_type": "code",
      "source": [
        "!ls\n"
      ],
      "metadata": {
        "colab": {
          "base_uri": "https://localhost:8080/"
        },
        "id": "QBk6WGyYz7qY",
        "outputId": "77994e2d-6f30-4535-ee07-9282518b211e"
      },
      "execution_count": null,
      "outputs": [
        {
          "output_type": "stream",
          "name": "stdout",
          "text": [
            "castronorms.csv      sample_data\t   SWOW-EN.R100.csv\n",
            "histwords_vocab.csv  stimuli_to_check.csv\n"
          ]
        }
      ]
    }
  ]
}